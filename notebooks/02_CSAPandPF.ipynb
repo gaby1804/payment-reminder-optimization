{
 "cells": [
  {
   "metadata": {},
   "cell_type": "markdown",
   "source": [
    "# Current State Analysis Plan\n",
    "\n",
    "\n",
    "This notebook outlines the strategy to assess the current effectiveness of Credit-X’s payment reminder communication patterns. The aim is to identify key pain points and failure modes, which will support the redesign of a more efficient and customer-centric reminder system.\n",
    "\n",
    "\n"
   ],
   "id": "3ab7485b3edfabf2"
  },
  {
   "metadata": {},
   "cell_type": "markdown",
   "source": "#### Load the tables",
   "id": "6c0f48f5bf2f4b71"
  },
  {
   "metadata": {
    "ExecuteTime": {
     "end_time": "2025-06-30T16:20:53.497036Z",
     "start_time": "2025-06-30T16:20:52.625877Z"
    }
   },
   "cell_type": "code",
   "source": [
    "import pandas as pd\n",
    "import plotly.express as px\n",
    "import plotly.io as pio\n",
    "import plotly.graph_objects as go\n",
    "import numpy as np\n",
    "from statsmodels.nonparametric.smoothers_lowess import lowess\n",
    "from sklearn.ensemble import IsolationForest\n",
    "from sklearn.preprocessing import StandardScaler\n",
    "\n",
    "pio.renderers.default = 'iframe_connected'\n",
    "\n",
    "\"from data.generate_data import feedback_df, customers_df, accounts_df,payments_df, reminders_df, schedules_df\"\n",
    "\n",
    "feedback = pd.read_csv(r'C:\\Users\\gaby\\PycharmProjects\\Payment-Reminder-Optimizatio\\data\\raw\\feedback.csv')\n",
    "customers = pd.read_csv(r'C:\\Users\\gaby\\PycharmProjects\\Payment-Reminder-Optimizatio\\data\\raw\\customers.csv')\n",
    "accounts = pd.read_csv(r'C:\\Users\\gaby\\PycharmProjects\\Payment-Reminder-Optimizatio\\data\\raw\\accounts.csv')\n",
    "payments = pd.read_csv(r'C:\\Users\\gaby\\PycharmProjects\\Payment-Reminder-Optimizatio\\data\\raw\\payments.csv')\n",
    "reminders = pd.read_csv(r'C:\\Users\\gaby\\PycharmProjects\\Payment-Reminder-Optimizatio\\data\\raw\\reminders.csv')\n",
    "schedules =pd.read_csv(r'C:\\Users\\gaby\\PycharmProjects\\Payment-Reminder-Optimizatio\\data\\raw\\payment_schedules.csv')\n",
    "\n"
   ],
   "id": "209f03136273cd59",
   "outputs": [
    {
     "name": "stderr",
     "output_type": "stream",
     "text": [
      "C:\\Users\\gaby\\AppData\\Local\\Temp\\ipykernel_21784\\1072885442.py:19: DtypeWarning:\n",
      "\n",
      "Columns (4) have mixed types. Specify dtype option on import or set low_memory=False.\n",
      "\n"
     ]
    }
   ],
   "execution_count": 121
  },
  {
   "metadata": {},
   "cell_type": "markdown",
   "source": "#### Data preprocessing",
   "id": "2b121091dcf3acca"
  },
  {
   "metadata": {
    "ExecuteTime": {
     "end_time": "2025-06-28T21:19:03.494062Z",
     "start_time": "2025-06-28T21:19:03.294850Z"
    }
   },
   "cell_type": "code",
   "source": [
    "reminders['sent_at'] = pd.to_datetime(reminders['sent_at'])\n",
    "schedules['due_date'] = pd.to_datetime(schedules['due_date'])\n",
    "payments['payment_date'] = pd.to_datetime(payments['payment_date'])\n",
    "customers['signup_date'] = pd.to_datetime(customers['signup_date'])\n",
    "reminders = pd.merge(reminders, accounts[['account_id', 'customer_id']], on='account_id', how='left')\n",
    "\n",
    "reminders['month'] = reminders['sent_at'].dt.to_period('M').astype(str)\n",
    "monthly_reminders = reminders.groupby('month').size().reset_index(name='reminder_count')\n"
   ],
   "id": "d81fcfb52b5c8fd7",
   "outputs": [],
   "execution_count": 74
  },
  {
   "metadata": {},
   "cell_type": "markdown",
   "source": "#### Urgent Need for Reminder Optimization",
   "id": "3d5b8fb1c7c0d9af"
  },
  {
   "metadata": {
    "ExecuteTime": {
     "end_time": "2025-06-28T21:19:05.748919Z",
     "start_time": "2025-06-28T21:19:05.701516Z"
    }
   },
   "cell_type": "code",
   "source": [
    "fig = px.line(\n",
    "    monthly_reminders,\n",
    "    x='month',\n",
    "    y='reminder_count',\n",
    "    markers=True,\n",
    "    title='<b>Monthly Reminder Distribution</b>',\n",
    "    labels={'month': '', 'reminder_count': 'Number of Reminders'},\n",
    "    color_discrete_sequence=['#1f77b4'],  # Professional blue\n",
    "    template='plotly_white'\n",
    ").update_layout(\n",
    "    yaxis_title='Total Reminders',\n",
    "    hovermode='x unified',\n",
    "    font=dict(family=\"Arial\"),\n",
    "    height=400\n",
    ")\n",
    "\n",
    "fig.show()"
   ],
   "id": "408691f6d23efa30",
   "outputs": [
    {
     "data": {
      "text/html": [
       "<iframe\n",
       "    scrolling=\"no\"\n",
       "    width=\"100%\"\n",
       "    height=\"420\"\n",
       "    src=\"iframe_figures/figure_75.html\"\n",
       "    frameborder=\"0\"\n",
       "    allowfullscreen\n",
       "></iframe>\n"
      ]
     },
     "metadata": {},
     "output_type": "display_data"
    }
   ],
   "execution_count": 75
  },
  {
   "metadata": {},
   "cell_type": "markdown",
   "source": [
    "Our monthly reminder distribution shows consistent volume increases. This unsustainable growth demands immediate action to:\n",
    "\n",
    " **Maintain payment effectiveness** - More reminders ≠ better results without strategy"
   ],
   "id": "663664552721d3d6"
  },
  {
   "metadata": {},
   "cell_type": "markdown",
   "source": [
    "### Sunburst Chart: Hierarchical visualization showing reminder effectiveness by customer segment and channel, with:\n",
    "\n",
    "- Concentric rings for:\n",
    "  `risk_tier` → `income_bracket` → `channel`\n",
    "- Color-coded by open rate\n",
    "- Sized by payment conversion rate"
   ],
   "id": "aad33d9f310726c1"
  },
  {
   "metadata": {
    "ExecuteTime": {
     "end_time": "2025-06-28T21:19:26.457145Z",
     "start_time": "2025-06-28T21:19:26.308425Z"
    }
   },
   "cell_type": "code",
   "source": [
    "def create_sunburst_chart():\n",
    "    df_sunburst = pd.merge(\n",
    "        reminders.groupby(['customer_id', 'channel']).agg({\n",
    "            'opened': 'mean',\n",
    "            'clicked': 'mean',\n",
    "            'payment_triggered': 'mean'\n",
    "        }).reset_index(),\n",
    "        customers[['customer_id', 'risk_tier', 'income_bracket']],\n",
    "        on='customer_id',\n",
    "        how='left'\n",
    "    )\n",
    "\n",
    "    fig = px.sunburst(\n",
    "        df_sunburst,\n",
    "        path=['risk_tier', 'income_bracket', 'channel'],\n",
    "        values='payment_triggered',\n",
    "        color='opened',\n",
    "        color_continuous_scale='RdYlGn',\n",
    "        title='<b>Reminder Effectiveness by Customer Segment & Channel</b>',\n",
    "        width=800,\n",
    "        height=800\n",
    "    )\n",
    "\n",
    "    fig.update_traces(\n",
    "        textinfo=\"label+percent parent\",\n",
    "        hovertemplate=\"<b>Segment:</b> %{label}<br>\" +\n",
    "                      \"<b>Payment Trigger Rate:</b> %{value:.2f}<br>\" +\n",
    "                      \"<b>Open Rate:</b> %{color:.2f}\"\n",
    "    )\n",
    "\n",
    "    fig.show()\n",
    "\n",
    "create_sunburst_chart()\n",
    "\n"
   ],
   "id": "423e7656c2db9985",
   "outputs": [
    {
     "data": {
      "text/html": [
       "<iframe\n",
       "    scrolling=\"no\"\n",
       "    width=\"820px\"\n",
       "    height=\"820\"\n",
       "    src=\"iframe_figures/figure_76.html\"\n",
       "    frameborder=\"0\"\n",
       "    allowfullscreen\n",
       "></iframe>\n"
      ]
     },
     "metadata": {},
     "output_type": "display_data"
    }
   ],
   "execution_count": 76
  },
  {
   "metadata": {},
   "cell_type": "markdown",
   "source": [
    "\n",
    "A significant observation from the chart is the notably poorer performance within the \"high\" risk tier. Customers in this segment consistently exhibit low `opened` rates, shown by the prevalence of red coloring, and consequently, lower rates of `payment_triggered`. This pattern is evident across various income brackets and through channels such as email and SMS. This indicates that the current, undifferentiated reminder strategy is largely failing to engage these higher-risk customers and effectively prompt their payments.\n",
    "\n",
    "In contrast, \"push\" notifications generally show strong engagement, characterized by dark green segments indicating high `opened` rates, and appear more effective in leading to payments, particularly for customers in the \"low\" and \"medium\" risk tiers. The effectiveness of email and SMS, however, is highly inconsistent; they often demonstrate lower engagement, especially with higher-risk segments. This suggests that while push notifications could be a valuable asset to leverage more broadly, there's a clear need to re-evaluate the content, frequency, and specific targeting of email and SMS communications for various customer groups.\n",
    "\n"
   ],
   "id": "7cc87227a36b0e0a"
  },
  {
   "metadata": {},
   "cell_type": "markdown",
   "source": "#### Delinquency Risk Heatmap",
   "id": "7c399f2be26a488e"
  },
  {
   "metadata": {
    "ExecuteTime": {
     "end_time": "2025-06-28T21:19:33.155708Z",
     "start_time": "2025-06-28T21:19:32.540643Z"
    }
   },
   "cell_type": "code",
   "source": [
    "def create_risk_heatmap():\n",
    "    # Prepare data\n",
    "    df_risk = pd.merge(\n",
    "        accounts,\n",
    "        customers,\n",
    "        on='customer_id',\n",
    "        how='left'\n",
    "    )\n",
    "\n",
    "    df_risk = pd.merge(\n",
    "        df_risk,\n",
    "        schedules.groupby('account_id')['is_paid'].mean().reset_index(name='payment_rate'),\n",
    "        on='account_id',\n",
    "        how='left'\n",
    "    )\n",
    "\n",
    "    df_risk = pd.merge(\n",
    "        df_risk,\n",
    "        reminders.groupby('account_id')['payment_triggered'].mean().reset_index(name='reminder_response_rate'),\n",
    "        on='account_id',\n",
    "        how='left'\n",
    "    )\n",
    "\n",
    "    # Create heatmap\n",
    "    fig = px.density_heatmap(\n",
    "        df_risk,\n",
    "        x='risk_tier',\n",
    "        y='income_bracket',\n",
    "        z='payment_rate',\n",
    "        histfunc=\"avg\",\n",
    "        facet_col='account_type',\n",
    "        title='<b>Payment Rate by Customer Segments</b>',\n",
    "        width=1000,\n",
    "        height=500\n",
    "    )\n",
    "\n",
    "    fig.update_layout(\n",
    "        xaxis_title=\"Risk Tier\",\n",
    "        yaxis_title=\"Income Bracket\",\n",
    "        coloraxis_colorbar=dict(title=\"Payment Rate\")\n",
    "    )\n",
    "\n",
    "    fig.show()\n",
    "create_risk_heatmap()"
   ],
   "id": "1ec2bce0ca3ad72b",
   "outputs": [
    {
     "data": {
      "text/html": [
       "<iframe\n",
       "    scrolling=\"no\"\n",
       "    width=\"1020px\"\n",
       "    height=\"520\"\n",
       "    src=\"iframe_figures/figure_77.html\"\n",
       "    frameborder=\"0\"\n",
       "    allowfullscreen\n",
       "></iframe>\n"
      ]
     },
     "metadata": {},
     "output_type": "display_data"
    }
   ],
   "execution_count": 77
  },
  {
   "metadata": {},
   "cell_type": "markdown",
   "source": [
    "* **Low-risk** customers in **low income brackets** show **high payment rates**.\n",
    "* **High-risk** customers (any income) show **lower payment rates**.\n",
    "**High-risk + low income** segment shows **very low payment rate**\n",
    " **low-risk + low income** performs best.\n",
    "* **Risk Tier** is a strong predictor of payment behavior across all account types.\n",
    "* **Loan accounts** show the most extreme drop in payment performance among high-risk, low-income customers.\n",
    "* **Low-income + low-risk** customers are consistently reliable, suggesting potential for targeting or support programs."
   ],
   "id": "edd1fa63d75c7171"
  },
  {
   "metadata": {},
   "cell_type": "markdown",
   "source": "### Timing\n",
   "id": "c3aa6e81197ab68c"
  },
  {
   "metadata": {
    "ExecuteTime": {
     "end_time": "2025-06-28T21:57:17.515095Z",
     "start_time": "2025-06-28T21:57:10.745067Z"
    }
   },
   "cell_type": "code",
   "source": [
    "#Merge data with  keys\n",
    "analysis_df = (\n",
    "    reminders.merge(\n",
    "        schedules,\n",
    "        left_on='account_id',\n",
    "        right_on='account_id',\n",
    "        how='left'\n",
    "    )\n",
    "    .merge(\n",
    "        payments[['schedule_id', 'days_late']],\n",
    "        on='schedule_id',\n",
    "        how='left'\n",
    "    )\n",
    ")\n",
    "\n",
    "# Calculate timing and payment status\n",
    "analysis_df['days_before_due'] = (\n",
    "    pd.to_datetime(analysis_df['due_date']) -\n",
    "    pd.to_datetime(analysis_df['sent_at'])\n",
    ").dt.days\n",
    "\n",
    "#determine payment status using days_late and payments_schedule.is_paid\n",
    "analysis_df['payment_status'] = np.select(\n",
    "    [\n",
    "        analysis_df['days_late'] > 0,  # Late payments\n",
    "        analysis_df['is_paid'] == True  # On-time payments\n",
    "    ],\n",
    "    ['Late', 'On-time'],\n",
    "    default='Unpaid'  # Not paid\n",
    ")\n",
    "\n",
    "# 3.bin timing with observed=True\n",
    "time_bins = [-30, -7, -3, -1, 0, 1, 7, 30]\n",
    "time_labels = ['>7d early', '7-3d early', '2-1d early', 'Due day', '1d late', '2-7d late', '>7d late']\n",
    "analysis_df['time_window'] = pd.cut(\n",
    "    analysis_df['days_before_due'],\n",
    "    bins=time_bins,\n",
    "    labels=time_labels\n",
    ")\n",
    "\n",
    "plot_data = (\n",
    "    analysis_df\n",
    "    .groupby(\n",
    "        ['channel', 'time_window', 'payment_status'],\n",
    "        observed=True\n",
    "    )\n",
    "    .size()\n",
    "    .reset_index(name='count')\n",
    ")\n",
    "\n",
    "#visualization\n",
    "fig = px.bar(\n",
    "    plot_data,\n",
    "    x='time_window',\n",
    "    y='count',\n",
    "    color='payment_status',\n",
    "    facet_col='channel',\n",
    "    title='<b>Payment Outcomes by Reminder Timing & Channel</b>',\n",
    "    labels={'count': 'Number of Reminders'},\n",
    "    category_orders={\n",
    "        'time_window': time_labels,\n",
    "        'payment_status': ['On-time', 'Late', 'Unpaid'],\n",
    "        'channel': ['email', 'sms', 'push']\n",
    "    },\n",
    "    color_discrete_map={\n",
    "        'On-time': '#4E79A7',  # Blue\n",
    "        'Late': '#F28E2B',     # Orange\n",
    "        'Unpaid': '#E15759'    # Red\n",
    "    }\n",
    ")\n",
    "\n",
    "# trend lines\n",
    "for i, channel in enumerate(analysis_df['channel'].unique()):\n",
    "    trend_data = (\n",
    "        analysis_df[analysis_df['channel'] == channel]\n",
    "        .groupby('time_window', observed=True)['payment_status']\n",
    "        .apply(lambda x: (x == 'On-time').mean())\n",
    "        .reset_index()\n",
    "    )\n",
    "\n",
    "    fig.add_trace(\n",
    "        px.line(trend_data, x='time_window', y='payment_status')\n",
    "        .update_traces(\n",
    "            line_color='black',\n",
    "            line_width=2,\n",
    "            showlegend=False\n",
    "        ).data[0],\n",
    "        row=1, col=i+1\n",
    "    )\n",
    "fig.update_layout(\n",
    "    height=500,\n",
    "    width=900,\n",
    "    plot_bgcolor='white',\n",
    "    hovermode='x unified',\n",
    "    font=dict(family=\"Arial\"),\n",
    "    xaxis_title=\"Timing Relative to Due Date\"\n",
    ")\n",
    "fig.show()"
   ],
   "id": "5ed02fc1bc355861",
   "outputs": [
    {
     "data": {
      "text/html": [
       "<iframe\n",
       "    scrolling=\"no\"\n",
       "    width=\"920px\"\n",
       "    height=\"520\"\n",
       "    src=\"iframe_figures/figure_94.html\"\n",
       "    frameborder=\"0\"\n",
       "    allowfullscreen\n",
       "></iframe>\n"
      ]
     },
     "metadata": {},
     "output_type": "display_data"
    }
   ],
   "execution_count": 94
  },
  {
   "metadata": {},
   "cell_type": "markdown",
   "source": [
    "#### Email\n",
    "\n",
    "* High volume of reminders, especially when sent more than 7 days early (>7d early) and exactly on the due date.\n",
    "* Reminders sent on the \"Due day\" and \"1d late\" result in more on-time payments\n",
    "* Mailings >7d early and >7d late have many unpaid or late payments.\n",
    "#### SMS\n",
    "* Fewer reminders overall than email.\n",
    "* The trend is similar: higher effectiveness  between the due date and 1-2 days after.\n",
    "* Many unpaid items are also observed if sent too early or too late.\n",
    "*  SMS is somewhat less effective than email but shows a similar trend.\n",
    "#### Push\n",
    "\n",
    "* Very few reminders sent via push, compared to email and SMS.\n",
    "* Although data is scarce, the results are similar: reminders sent close to the due date have more on-time payments.\n",
    "Could be underutilized or less effective in this sample.\n",
    "\n",
    "####  In conclusion:\n",
    "\n",
    "* Sending reminders close to the due date (especially on the same day or one day after) improves on-time payment.\n",
    "* Emails are the most used and also the most effective channel, followed by SMS.\n",
    "* Reminders sent too early or too late have less positive impact.\n",
    "* Push notifications appear to be marginal or less used."
   ],
   "id": "a71e703b407e5326"
  },
  {
   "metadata": {},
   "cell_type": "markdown",
   "source": "#### Reminders Frecuency:",
   "id": "47b9bfb11a6408bd"
  },
  {
   "metadata": {
    "ExecuteTime": {
     "end_time": "2025-06-30T14:41:48.252Z",
     "start_time": "2025-06-30T14:41:48.209092Z"
    }
   },
   "cell_type": "code",
   "source": "reminders.groupby('customer_id')['sent_at'].count().describe()",
   "id": "5ac0a4cf75989b7e",
   "outputs": [
    {
     "data": {
      "text/plain": [
       "count    4902.000000\n",
       "mean       24.804570\n",
       "std        23.621837\n",
       "min         1.000000\n",
       "25%         9.000000\n",
       "50%        17.000000\n",
       "75%        33.000000\n",
       "max       147.000000\n",
       "Name: sent_at, dtype: float64"
      ]
     },
     "execution_count": 96,
     "metadata": {},
     "output_type": "execute_result"
    }
   ],
   "execution_count": 96
  },
  {
   "metadata": {},
   "cell_type": "markdown",
   "source": [
    "The frequency of reminders exhibits high dispersion, with a standard deviation (std = 23.6) approximately equal to the mean. This indicates a wide variability in the number of reminders received by clients.\n",
    " While the majority of clients receive between 9 and 33 reminders, extreme outliers are present, such as one instance recording 147 reminders.\n",
    "Only 25% of clients receive more than 33 reminders. Therefore, accounts exceeding this threshold warrant immediate attention and should be rigorously analyzed as potentially anomalous or suspicious cases.\n",
    "\n",
    "**Implications:**\n",
    "\n",
    "This quantitative analysis corroborates the insights derived from the histogram: the distribution displays a pronounced long tail. This pattern strongly suggests either systemic inefficiencies in the reminder process, potential misuse of the system, or the presence of automated and/or abusive behaviors. Further investigation into these high-frequency segments is crucial for identifying and mitigating underlying issues."
   ],
   "id": "8f1a0b3e8ae44da2"
  },
  {
   "metadata": {},
   "cell_type": "markdown",
   "source": "#### INTERVAL BETWEEN REMINDERS",
   "id": "9b97f1bb2fb93bb5"
  },
  {
   "metadata": {
    "ExecuteTime": {
     "end_time": "2025-06-30T14:42:49.296440Z",
     "start_time": "2025-06-30T14:42:49.229216Z"
    }
   },
   "cell_type": "code",
   "source": "reminders.sort_values(['account_id', 'sent_at']).groupby('account_id')['sent_at'].diff().dt.days.mean()",
   "id": "8c794734ab34e9ff",
   "outputs": [
    {
     "data": {
      "text/plain": [
       "np.float64(54.70440122642518)"
      ]
     },
     "execution_count": 97,
     "metadata": {},
     "output_type": "execute_result"
    }
   ],
   "execution_count": 97
  },
  {
   "metadata": {},
   "cell_type": "markdown",
   "source": "To understand the frequency with which reminders are sent to accounts, we analyzed the time interval between successive messages. The average difference between consecutive reminders sent to the same account_id is 54.7 days. This suggests that, in general, reminders are spaced out by a considerable period, which could influence the effectiveness of the reminders.",
   "id": "f782ffd2e1730fc7"
  },
  {
   "metadata": {
    "ExecuteTime": {
     "end_time": "2025-06-30T14:48:42.635457Z",
     "start_time": "2025-06-30T14:48:41.418445Z"
    }
   },
   "cell_type": "code",
   "source": "px.histogram(reminders.groupby('account_id').size(), title='Distribution of Reminders per Client').update_layout(showlegend=False)",
   "id": "f3f83de596ca3197",
   "outputs": [
    {
     "data": {
      "text/html": [
       "<iframe\n",
       "    scrolling=\"no\"\n",
       "    width=\"100%\"\n",
       "    height=\"545px\"\n",
       "    src=\"iframe_figures/figure_101.html\"\n",
       "    frameborder=\"0\"\n",
       "    allowfullscreen\n",
       "></iframe>\n"
      ]
     },
     "metadata": {},
     "output_type": "display_data"
    }
   ],
   "execution_count": 101
  },
  {
   "metadata": {},
   "cell_type": "markdown",
   "source": [
    " A significant portion of our client base receives between 5 and 10 reminders. However, a notable right-skewed long tail indicates a subset of clients receiving in excess of 40, and in some extreme cases, over 60 reminders.\n",
    "This highly anomalous volume of reminders for a minority of accounts could be indicative of sophisticated fraudulent activities. These may include phantom accounts, bot-driven interactions, or abusive users who systematically exploit the reminder infrastructure with no genuine intent of payment. Further investigation into these high-frequency recipients is warranted to identify and mitigate such exploitative patterns.\n",
    "\n",
    " Such inherent inconsistencies within our communication protocols create exploitable windows for malicious actors. Periods characterized by a lack of reminders could be deliberately leveraged to avoid charges, accumulate significant outstanding balances, or simply to remain undetected.\n",
    "The absence of personalization renders the reminder system highly predictable and thus more susceptible to manipulation. This predictability facilitates the development of automated scripts or bots designed to systematically ignore or filter specific message types, thereby undermining the effectiveness of our dunning processes."
   ],
   "id": "eae37c02df643680"
  },
  {
   "metadata": {},
   "cell_type": "markdown",
   "source": "#### Reminder Frequency vs Conversion Rate",
   "id": "4a3955d2f50f02b9"
  },
  {
   "metadata": {
    "ExecuteTime": {
     "end_time": "2025-06-30T16:20:13.051958Z",
     "start_time": "2025-06-30T16:20:12.923390Z"
    }
   },
   "cell_type": "code",
   "source": [
    "window_frac = 0.3\n",
    "# Frequency and conversion rate per account\n",
    "df = reminders.groupby('account_id').agg(\n",
    "    frequency=('reminder_id', 'count'),\n",
    "    conversion_rate=('payment_triggered', 'mean')\n",
    ").sort_values('frequency').reset_index()\n",
    "\n",
    "# LOWESS smoothing\n",
    "smoothed = lowess(df['conversion_rate'], df['frequency'], frac=window_frac)\n",
    "df['smoothed'] = smoothed[:, 1]\n",
    "\n",
    "# Count how many accounts per frequency\n",
    "freq_counts = df['frequency'].value_counts().reset_index()\n",
    "freq_counts.columns = ['frequency', 'account_count']\n",
    "df = df.merge(freq_counts, on='frequency', how='left')\n",
    "\n",
    "fig = px.scatter(\n",
    "    df,\n",
    "    x='frequency',\n",
    "    y='conversion_rate',\n",
    "    size='account_count',\n",
    "    title=f'<b>Reminder Frequency vs Conversion Rate (LOWESS smoothing, frac={window_frac})</b>',\n",
    "    labels={\n",
    "        'frequency': 'Reminder Frequency per Account',\n",
    "        'conversion_rate': 'Conversion Rate',\n",
    "        'account_count': 'Number of Accounts'\n",
    "    },\n",
    "    opacity=0.6,\n",
    "    color_discrete_sequence=['#3399FF']\n",
    ")\n",
    "\n",
    "# Smoothed trend line\n",
    "fig.add_trace(\n",
    "    go.Scatter(\n",
    "        x=df['frequency'],\n",
    "        y=df['smoothed'],\n",
    "        mode='lines',\n",
    "        line=dict(color='red', width=2),\n",
    "        name='Smoothed Trend (LOWESS)'\n",
    "    )\n",
    ")\n",
    "\n",
    "fig.update_layout(\n",
    "    yaxis_tickformat=',.0%',\n",
    "    hovermode='x unified',\n",
    "    template='plotly_dark',\n",
    "    legend=dict(x=0.75, y=0.95)\n",
    ")\n",
    "\n",
    "fig.show()"
   ],
   "id": "20559d4639f3788",
   "outputs": [
    {
     "data": {
      "text/html": [
       "<iframe\n",
       "    scrolling=\"no\"\n",
       "    width=\"100%\"\n",
       "    height=\"545px\"\n",
       "    src=\"iframe_figures/figure_120.html\"\n",
       "    frameborder=\"0\"\n",
       "    allowfullscreen\n",
       "></iframe>\n"
      ]
     },
     "metadata": {},
     "output_type": "display_data"
    }
   ],
   "execution_count": 120
  },
  {
   "metadata": {},
   "cell_type": "markdown",
   "source": [
    "The red LOWESS line clearly indicates that beyond approximately 5–10 reminders, the conversion rate does not exhibit significant improvement. In fact, it tends to stabilize around 15–18%, even when clients receive upwards of 50 reminders.\n",
    "This suggests a clear saturation point in our reminder strategy. Sending an excessive number of messages beyond this threshold does not lead to enhanced client behavior or increased conversions.\n",
    " The size of the data points in the visualization indicates that the bulk of our client accounts fall within the 1 to 25 reminder range.\n",
    "This segment represents our largest opportunity for impact. An optimized strategy focusing on this core group can yield the most significant improvements in overall conversion.\n",
    "\n",
    "\n",
    "####  What Works:\n",
    "\n",
    "* Initial Reminders (1–5): These early reminders can be highly effective for specific client segments.\n",
    "* A highly personalized strategy during these initial contacts is likely to be far more effective than an indiscriminate or indefinitely persistent approach.\n",
    "\n",
    "#### What Does Not Work:\n",
    "\n",
    "* *Persisting with more than 25 reminders rarely yields an increase in conversions.\n",
    "*  Such excessive communication could, as indicated by the problem's background, negatively impact the customer experience and foster frustration."
   ],
   "id": "3df0e2cdcd1c851"
  },
  {
   "metadata": {},
   "cell_type": "markdown",
   "source": "#### FRAUD ANALYSIS",
   "id": "864c791dd5cc678e"
  },
  {
   "metadata": {},
   "cell_type": "markdown",
   "source": [
    "#### Isolation Forest\n",
    "\n",
    "In our context, Isolation Forest is instrumental in detecting customers whose payment behavior is significantly different from the general population, potentially indicating anomalous or fraudulent activities."
   ],
   "id": "98975fc900228701"
  },
  {
   "metadata": {
    "ExecuteTime": {
     "end_time": "2025-06-30T15:39:16.866763Z",
     "start_time": "2025-06-30T15:39:15.775013Z"
    }
   },
   "cell_type": "code",
   "outputs": [],
   "execution_count": 106,
   "source": [
    "# CLIENT BEHAVIOR\n",
    "df = payments.merge(customers, on=\"customer_id\")\n",
    "df = df.merge(accounts[['account_id', 'customer_id']], on=\"customer_id\", how=\"left\")\n",
    "\n",
    "features = df.groupby('customer_id').agg({\n",
    "    'amount_paid': ['mean', 'std', 'sum'],\n",
    "    'days_late': ['mean', 'std', 'max'],\n",
    "    'credit_score': 'mean',\n",
    "    'account_id': 'nunique',\n",
    "}).reset_index()\n",
    "\n",
    "# RENAME COLUMNS\n",
    "features.columns = ['customer_id', 'amount_paid_mean', 'amount_paid_std', 'amount_paid_sum',\n",
    "                    'days_late_mean', 'days_late_std', 'days_late_max',\n",
    "                    'credit_score', 'n_accounts']\n",
    "\n",
    "features = features.fillna(0)  #\n"
   ],
   "id": "1ae489d6c467649c"
  },
  {
   "metadata": {
    "ExecuteTime": {
     "end_time": "2025-06-30T15:39:27.281652Z",
     "start_time": "2025-06-30T15:39:27.085770Z"
    }
   },
   "cell_type": "code",
   "outputs": [],
   "execution_count": 107,
   "source": [
    "\n",
    "# Normalize\n",
    "scaler = StandardScaler()\n",
    "X = scaler.fit_transform(features.drop('customer_id', axis=1))\n",
    "\n",
    "# Modelling\n",
    "iso = IsolationForest(contamination=0.05, random_state=42)\n",
    "features['anomaly_score'] = iso.fit_predict(X)\n",
    "features['anomaly'] = features['anomaly_score'].apply(lambda x: 1 if x == -1 else 0)\n"
   ],
   "id": "c67e304f8cd343ca"
  },
  {
   "metadata": {
    "ExecuteTime": {
     "end_time": "2025-06-30T15:41:50.090408Z",
     "start_time": "2025-06-30T15:41:50.075059Z"
    }
   },
   "cell_type": "code",
   "source": [
    "suspicious = features[features['anomaly'] == 1].sort_values(by='days_late_mean', ascending=False)\n",
    "display(suspicious.head(10))\n"
   ],
   "id": "cebf006b0fd8df39",
   "outputs": [
    {
     "data": {
      "text/plain": [
       "     customer_id  amount_paid_mean  amount_paid_std  amount_paid_sum  \\\n",
       "141   CUST_00141       4912.721111      1454.380020        132643.47   \n",
       "1750  CUST_01750     136499.781923     47334.528476       3548994.33   \n",
       "4957  CUST_04957       1833.413437       623.059364         58669.23   \n",
       "3706  CUST_03706       2908.730278       899.392794        104714.29   \n",
       "479   CUST_00479      94585.656154     30229.930950       2459227.06   \n",
       "1299  CUST_01299     128394.357600     45677.698030       3209858.94   \n",
       "2502  CUST_02502      14254.671176      2440.802601        242329.41   \n",
       "4659  CUST_04659     203457.379231     52235.217581       5289891.86   \n",
       "207   CUST_00207      89084.147692     34994.364038       1158093.92   \n",
       "83    CUST_00083      39344.871461     43008.739889      10505080.68   \n",
       "\n",
       "      days_late_mean  days_late_std  days_late_max  credit_score  n_accounts  \\\n",
       "141        19.888889      25.404926            128         752.0           1   \n",
       "1750       18.692308      24.427475            106         700.0           1   \n",
       "4957       18.656250      27.991484            135         733.0           1   \n",
       "3706       16.888889      24.770694            134         694.0           1   \n",
       "479        16.423077      18.891634             60         577.0           1   \n",
       "1299       16.240000      23.315374            106         814.0           1   \n",
       "2502       16.000000      36.250862            154         627.0           1   \n",
       "4659       15.076923      24.994276            114         776.0           1   \n",
       "207        15.076923      18.404988             55         488.0           1   \n",
       "83         15.056180      20.572644            123         619.0           3   \n",
       "\n",
       "      anomaly_score  anomaly  \n",
       "141              -1        1  \n",
       "1750             -1        1  \n",
       "4957             -1        1  \n",
       "3706             -1        1  \n",
       "479              -1        1  \n",
       "1299             -1        1  \n",
       "2502             -1        1  \n",
       "4659             -1        1  \n",
       "207              -1        1  \n",
       "83               -1        1  "
      ],
      "text/html": [
       "<div>\n",
       "<style scoped>\n",
       "    .dataframe tbody tr th:only-of-type {\n",
       "        vertical-align: middle;\n",
       "    }\n",
       "\n",
       "    .dataframe tbody tr th {\n",
       "        vertical-align: top;\n",
       "    }\n",
       "\n",
       "    .dataframe thead th {\n",
       "        text-align: right;\n",
       "    }\n",
       "</style>\n",
       "<table border=\"1\" class=\"dataframe\">\n",
       "  <thead>\n",
       "    <tr style=\"text-align: right;\">\n",
       "      <th></th>\n",
       "      <th>customer_id</th>\n",
       "      <th>amount_paid_mean</th>\n",
       "      <th>amount_paid_std</th>\n",
       "      <th>amount_paid_sum</th>\n",
       "      <th>days_late_mean</th>\n",
       "      <th>days_late_std</th>\n",
       "      <th>days_late_max</th>\n",
       "      <th>credit_score</th>\n",
       "      <th>n_accounts</th>\n",
       "      <th>anomaly_score</th>\n",
       "      <th>anomaly</th>\n",
       "    </tr>\n",
       "  </thead>\n",
       "  <tbody>\n",
       "    <tr>\n",
       "      <th>141</th>\n",
       "      <td>CUST_00141</td>\n",
       "      <td>4912.721111</td>\n",
       "      <td>1454.380020</td>\n",
       "      <td>132643.47</td>\n",
       "      <td>19.888889</td>\n",
       "      <td>25.404926</td>\n",
       "      <td>128</td>\n",
       "      <td>752.0</td>\n",
       "      <td>1</td>\n",
       "      <td>-1</td>\n",
       "      <td>1</td>\n",
       "    </tr>\n",
       "    <tr>\n",
       "      <th>1750</th>\n",
       "      <td>CUST_01750</td>\n",
       "      <td>136499.781923</td>\n",
       "      <td>47334.528476</td>\n",
       "      <td>3548994.33</td>\n",
       "      <td>18.692308</td>\n",
       "      <td>24.427475</td>\n",
       "      <td>106</td>\n",
       "      <td>700.0</td>\n",
       "      <td>1</td>\n",
       "      <td>-1</td>\n",
       "      <td>1</td>\n",
       "    </tr>\n",
       "    <tr>\n",
       "      <th>4957</th>\n",
       "      <td>CUST_04957</td>\n",
       "      <td>1833.413437</td>\n",
       "      <td>623.059364</td>\n",
       "      <td>58669.23</td>\n",
       "      <td>18.656250</td>\n",
       "      <td>27.991484</td>\n",
       "      <td>135</td>\n",
       "      <td>733.0</td>\n",
       "      <td>1</td>\n",
       "      <td>-1</td>\n",
       "      <td>1</td>\n",
       "    </tr>\n",
       "    <tr>\n",
       "      <th>3706</th>\n",
       "      <td>CUST_03706</td>\n",
       "      <td>2908.730278</td>\n",
       "      <td>899.392794</td>\n",
       "      <td>104714.29</td>\n",
       "      <td>16.888889</td>\n",
       "      <td>24.770694</td>\n",
       "      <td>134</td>\n",
       "      <td>694.0</td>\n",
       "      <td>1</td>\n",
       "      <td>-1</td>\n",
       "      <td>1</td>\n",
       "    </tr>\n",
       "    <tr>\n",
       "      <th>479</th>\n",
       "      <td>CUST_00479</td>\n",
       "      <td>94585.656154</td>\n",
       "      <td>30229.930950</td>\n",
       "      <td>2459227.06</td>\n",
       "      <td>16.423077</td>\n",
       "      <td>18.891634</td>\n",
       "      <td>60</td>\n",
       "      <td>577.0</td>\n",
       "      <td>1</td>\n",
       "      <td>-1</td>\n",
       "      <td>1</td>\n",
       "    </tr>\n",
       "    <tr>\n",
       "      <th>1299</th>\n",
       "      <td>CUST_01299</td>\n",
       "      <td>128394.357600</td>\n",
       "      <td>45677.698030</td>\n",
       "      <td>3209858.94</td>\n",
       "      <td>16.240000</td>\n",
       "      <td>23.315374</td>\n",
       "      <td>106</td>\n",
       "      <td>814.0</td>\n",
       "      <td>1</td>\n",
       "      <td>-1</td>\n",
       "      <td>1</td>\n",
       "    </tr>\n",
       "    <tr>\n",
       "      <th>2502</th>\n",
       "      <td>CUST_02502</td>\n",
       "      <td>14254.671176</td>\n",
       "      <td>2440.802601</td>\n",
       "      <td>242329.41</td>\n",
       "      <td>16.000000</td>\n",
       "      <td>36.250862</td>\n",
       "      <td>154</td>\n",
       "      <td>627.0</td>\n",
       "      <td>1</td>\n",
       "      <td>-1</td>\n",
       "      <td>1</td>\n",
       "    </tr>\n",
       "    <tr>\n",
       "      <th>4659</th>\n",
       "      <td>CUST_04659</td>\n",
       "      <td>203457.379231</td>\n",
       "      <td>52235.217581</td>\n",
       "      <td>5289891.86</td>\n",
       "      <td>15.076923</td>\n",
       "      <td>24.994276</td>\n",
       "      <td>114</td>\n",
       "      <td>776.0</td>\n",
       "      <td>1</td>\n",
       "      <td>-1</td>\n",
       "      <td>1</td>\n",
       "    </tr>\n",
       "    <tr>\n",
       "      <th>207</th>\n",
       "      <td>CUST_00207</td>\n",
       "      <td>89084.147692</td>\n",
       "      <td>34994.364038</td>\n",
       "      <td>1158093.92</td>\n",
       "      <td>15.076923</td>\n",
       "      <td>18.404988</td>\n",
       "      <td>55</td>\n",
       "      <td>488.0</td>\n",
       "      <td>1</td>\n",
       "      <td>-1</td>\n",
       "      <td>1</td>\n",
       "    </tr>\n",
       "    <tr>\n",
       "      <th>83</th>\n",
       "      <td>CUST_00083</td>\n",
       "      <td>39344.871461</td>\n",
       "      <td>43008.739889</td>\n",
       "      <td>10505080.68</td>\n",
       "      <td>15.056180</td>\n",
       "      <td>20.572644</td>\n",
       "      <td>123</td>\n",
       "      <td>619.0</td>\n",
       "      <td>3</td>\n",
       "      <td>-1</td>\n",
       "      <td>1</td>\n",
       "    </tr>\n",
       "  </tbody>\n",
       "</table>\n",
       "</div>"
      ]
     },
     "metadata": {},
     "output_type": "display_data"
    }
   ],
   "execution_count": 109
  },
  {
   "metadata": {
    "ExecuteTime": {
     "end_time": "2025-06-30T15:44:23.353434Z",
     "start_time": "2025-06-30T15:44:23.250410Z"
    }
   },
   "cell_type": "code",
   "source": [
    "\n",
    "fig = px.scatter(\n",
    "    features,\n",
    "    x='amount_paid_mean',\n",
    "    y='days_late_mean',\n",
    "    color='anomaly',\n",
    "    symbol='anomaly',\n",
    "    hover_data=['customer_id', 'credit_score', 'n_accounts'],\n",
    "    color_discrete_map={0: 'blue', 1: 'red'},\n",
    "    title='🕵️‍♀️ Isolation Forest Anomaly Detection',\n",
    "    labels={\n",
    "        'amount_paid_mean': 'Mean Payment Amount',\n",
    "        'days_late_mean': 'Mean Days Late',\n",
    "        'anomaly': 'Anomaly Detected'\n",
    "    }\n",
    ")\n",
    "\n",
    "fig.update_traces(marker=dict(size=10, line=dict(width=1, color='DarkSlateGrey')))\n",
    "fig.update_layout(legend_title_text='Anomaly (1 = Suspicious)')\n",
    "fig.show()\n"
   ],
   "id": "1fcffe9665465ed0",
   "outputs": [
    {
     "data": {
      "text/html": [
       "<iframe\n",
       "    scrolling=\"no\"\n",
       "    width=\"100%\"\n",
       "    height=\"545px\"\n",
       "    src=\"iframe_figures/figure_111.html\"\n",
       "    frameborder=\"0\"\n",
       "    allowfullscreen\n",
       "></iframe>\n"
      ]
     },
     "metadata": {},
     "output_type": "display_data"
    }
   ],
   "execution_count": 111
  },
  {
   "metadata": {},
   "cell_type": "markdown",
   "source": [
    "Most customers cluster on the left side, indicating moderate to low payment amounts and delays. These are likely typical, non-risky clients.\n",
    "A few bright yellow outliers are positioned far to the right, signifying exceptionally high average payment amounts. These customers exhibit an unusual spending pattern that sharply deviates from the majority.\n",
    " Some anomalous customers also demonstrate higher than average payment delays, which may be indicative of intentional payment manipulation or elevated risk behavior.\n"
   ],
   "id": "1ae7823475c3ae29"
  },
  {
   "metadata": {},
   "cell_type": "markdown",
   "source": "#### BENFORD LAW",
   "id": "ca8f2a26e916e02"
  },
  {
   "metadata": {},
   "cell_type": "markdown",
   "source": [
    "\n",
    "Benford's Law states that in natural datasets, the leading digits of numbers are not uniformly distributed. Specifically, the number 1 appears as the first digit approximately 30% of the time, 2 appears around 17%, and the frequency decreases for higher digits.\n",
    "\n",
    "This expected distribution is typically not observed in fabricated or manipulated numbers, making Benford's Law a valuable tool for detecting potential fraud."
   ],
   "id": "ec503a2a22eff34b"
  },
  {
   "metadata": {
    "ExecuteTime": {
     "end_time": "2025-06-30T15:57:07.229059Z",
     "start_time": "2025-06-30T15:57:06.882134Z"
    }
   },
   "cell_type": "code",
   "source": [
    "# make sure we have positive numbers\n",
    "payments_clean = payments[payments['amount_paid'] > 0].copy()\n",
    "\n",
    "# first digit\n",
    "payments_clean['first_digit'] = payments_clean['amount_paid'].astype(str).str.replace('.', '').str.lstrip('0').str[0].astype(int)\n",
    "\n",
    "observed = payments_clean['first_digit'].value_counts(normalize=True).sort_index()\n",
    "\n",
    "\n",
    "# what Benford expect\n",
    "benford_dist = {d: np.log10(1 + 1/d) for d in range(1, 10)}\n",
    "benford_df = pd.DataFrame({\n",
    "    'Digit': list(benford_dist.keys()),\n",
    "    'Benford': list(benford_dist.values()),\n",
    "    'Observed': [observed.get(d, 0) for d in range(1, 10)]\n",
    "})\n",
    "\n",
    "fig = go.Figure()\n",
    "fig.add_trace(go.Bar(x=benford_df['Digit'], y=benford_df['Observed'],\n",
    "                     name='Observed', marker_color='indianred'))\n",
    "fig.add_trace(go.Scatter(x=benford_df['Digit'], y=benford_df['Benford'],\n",
    "                         mode='lines+markers', name='Benford', line=dict(color='green')))\n",
    "\n",
    "fig.update_layout(\n",
    "    title='Benford’s Law Analysis on Payment Amounts',\n",
    "    xaxis_title='First Digit',\n",
    "    yaxis_title='Proportion',\n",
    "    barmode='group',\n",
    "    legend_title='Distribution'\n",
    ")\n",
    "fig.show()\n",
    "\n"
   ],
   "id": "811eeb081f47479e",
   "outputs": [
    {
     "data": {
      "text/html": [
       "<iframe\n",
       "    scrolling=\"no\"\n",
       "    width=\"100%\"\n",
       "    height=\"545px\"\n",
       "    src=\"iframe_figures/figure_116.html\"\n",
       "    frameborder=\"0\"\n",
       "    allowfullscreen\n",
       "></iframe>\n"
      ]
     },
     "metadata": {},
     "output_type": "display_data"
    }
   ],
   "execution_count": 116
  },
  {
   "metadata": {},
   "cell_type": "markdown",
   "source": [
    "---\n",
    "## Problem Formulation\n",
    "\n",
    "\n",
    "\n",
    "We aim to:\n",
    "\n",
    "* **Maximize** payment compliance (minimize delinquency).\n",
    "* **Minimize** customer dissatisfaction (measured via feedback scores).\n",
    "* **Subject to** operational and business constraints.\n",
    "\n",
    "Let's define the key decision variables:\n",
    "\n",
    "* $x_{i,j,k,t}$: Binary variable (1 if reminder $j$ is sent to customer $i$ via channel $k$ at time $t$, else 0).\n",
    "* $f_i$: Reminder frequency (number of reminders sent to customer $i$ per billing cycle).\n",
    "* $\\tau_i$: Timing of reminders relative to the due date (e.g., days before/after the due date).\n",
    "* $c_i$: Channel mix (SMS, email, push) for customer $i$.\n",
    "\n",
    "### 3. Objective Function\n",
    "\n",
    "We employ a **multi-objective function** to balance competing priorities:\n",
    "\n",
    "#### Maximize Payment Compliance (Primary Objective)\n",
    "\n",
    "$$\\text{Maximize} \\sum_{i=1}^{N} (P(\\text{Payment}_i \\mid x_{i,j,k,t}))$$\n",
    "\n",
    "Where $P(\\text{Payment}_i)$ represents the probability customer $i$ pays on time given the reminders.\n",
    "\n",
    "#### Minimize Customer Dissatisfaction (Secondary Objective)\n",
    "\n",
    "$$\\text{Minimize} \\sum_{i=1}^{N} (\\text{Dissatisfaction}_i(f_i, \\tau_i, c_i))$$\n",
    "\n",
    "Dissatisfaction increases with:\n",
    "\n",
    "* Excessive reminders ($f_i > f_{\\text{max}}$).\n",
    "* Poorly timed reminders (too early/late).\n",
    "* Non-preferred channels.\n",
    "\n",
    "#### Operational Cost Control (Tertiary Objective)\n",
    "\n",
    "$$\\text{Minimize} \\sum_{i=1}^{N} (\\text{Cost}_i(c_i))$$\n",
    "\n",
    "Here, cost depends on the channel (e.g., SMS typically costs more than email).\n",
    "\n",
    "#### Combined Objective (Weighted Approach)\n",
    "\n",
    "$$\\text{Maximize} \\alpha \\cdot \\text{Payment Compliance} - \\beta \\cdot \\text{Dissatisfaction} - \\gamma \\cdot \\text{Cost}$$\n",
    "\n",
    "Weights $\\alpha, \\beta, \\gamma$ can be tuned based on business priorities.\n",
    "\n",
    "\n",
    "#### Frequency Constraints\n",
    "\n",
    "$$f_i \\le f_{\\text{max}} \\quad \\forall i \\quad (\\text{e.g., max 5-10 reminders per cycle})$$\n",
    "\n",
    "#### Timing Constraints\n",
    "\n",
    "$$\\tau_i \\in [\\tau_{\\text{min}}, \\tau_{\\text{max}}] \\quad (\\text{e.g., -3 to +7 days from due date})$$\n",
    "\n",
    "#### Channel Constraints\n",
    "\n",
    "$$\\sum_k x_{i,j,k,t} \\le 1 \\quad (\\text{No duplicate reminders on same day})$$\n",
    "\n",
    "#### Customer Preference Constraints\n",
    "\n",
    "$$\\text{If Preference}_i = \\text{SMS, then } c_i \\text{ must include SMS.}$$\n",
    "\n",
    "#### Budget Constraints\n",
    "\n",
    "$$\\sum_{i=1}^{N} \\text{Cost}_i(c_i) \\le B \\quad (\\text{Total cost} \\le \\text{budget})$$\n",
    "\n",
    "###  Assumptions\n",
    "\n",
    "* **Linearity of Response**: We assume reminder effectiveness follows a **diminishing returns** curve, not strictly linear.\n",
    "* **Customer Independence**: We assume one customer’s response does not affect others (no network effects).\n",
    "* **Data Quality**: We assume payment and feedback data are accurate and representative.\n",
    "\n"
   ],
   "id": "600641c3c461a019"
  }
 ],
 "metadata": {
  "kernelspec": {
   "display_name": "Python 3",
   "language": "python",
   "name": "python3"
  },
  "language_info": {
   "codemirror_mode": {
    "name": "ipython",
    "version": 2
   },
   "file_extension": ".py",
   "mimetype": "text/x-python",
   "name": "python",
   "nbconvert_exporter": "python",
   "pygments_lexer": "ipython2",
   "version": "2.7.6"
  }
 },
 "nbformat": 4,
 "nbformat_minor": 5
}
